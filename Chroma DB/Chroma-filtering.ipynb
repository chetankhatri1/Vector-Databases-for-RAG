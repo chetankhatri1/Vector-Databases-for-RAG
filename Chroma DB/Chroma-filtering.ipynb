{
 "cells": [
  {
   "cell_type": "code",
   "execution_count": null,
   "id": "f5219fb3",
   "metadata": {},
   "outputs": [],
   "source": [
    "pip install chromadb"
   ]
  },
  {
   "cell_type": "code",
   "execution_count": 2,
   "id": "eb3252c3",
   "metadata": {},
   "outputs": [],
   "source": [
    "import chromadb\n",
    "from chromadb.utils import embedding_functions\n",
    "\n",
    "ef = embedding_functions.SentenceTransformerEmbeddingFunction(\n",
    "    model_name=\"all-MiniLM-L6-v2\"\n",
    ")"
   ]
  },
  {
   "cell_type": "code",
   "execution_count": 3,
   "id": "78e32db3",
   "metadata": {},
   "outputs": [
    {
     "name": "stdout",
     "output_type": "stream",
     "text": [
      "Collection created: filter_demo\n"
     ]
    }
   ],
   "source": [
    "client = chromadb.Client()\n",
    "collection = client.create_collection(\n",
    "    name=\"filter_demo\",\n",
    "    metadata={\"description\": \"Used to demo filtering in ChromaDB\"},\n",
    "    configuration={\n",
    "        \"embedding_function\": ef\n",
    "    }\n",
    ")\n",
    "print(f\"Collection created: {collection.name}\")"
   ]
  },
  {
   "cell_type": "code",
   "execution_count": 4,
   "id": "bbe1a420",
   "metadata": {},
   "outputs": [],
   "source": [
    "collection.add(\n",
    "    documents=[\n",
    "        \"This is a document about LangChain\",\n",
    "        \"This is a reading about LlamaIndex\",\n",
    "        \"This is a book about Python\",\n",
    "        \"This is a document about pandas\",\n",
    "        \"This is another document about LangChain\"\n",
    "    ],\n",
    "    metadatas=[\n",
    "        {\"source\": \"langchain.com\", \"version\": 0.1},\n",
    "        {\"source\": \"llamaindex.ai\", \"version\": 0.2},\n",
    "        {\"source\": \"python.org\", \"version\": 0.3},\n",
    "        {\"source\": \"pandas.pydata.org\", \"version\": 0.4},\n",
    "        {\"source\": \"langchain.com\", \"version\": 0.5},\n",
    "    ],\n",
    "    ids=[\"id1\", \"id2\", \"id3\", \"id4\", \"id5\"]\n",
    ")"
   ]
  },
  {
   "cell_type": "code",
   "execution_count": 5,
   "id": "188964f3",
   "metadata": {},
   "outputs": [
    {
     "data": {
      "text/plain": [
       "{'ids': ['id1', 'id5'],\n",
       " 'embeddings': None,\n",
       " 'documents': ['This is a document about LangChain',\n",
       "  'This is another document about LangChain'],\n",
       " 'uris': None,\n",
       " 'included': ['metadatas', 'documents'],\n",
       " 'data': None,\n",
       " 'metadatas': [{'source': 'langchain.com', 'version': 0.1},\n",
       "  {'source': 'langchain.com', 'version': 0.5}]}"
      ]
     },
     "execution_count": 5,
     "metadata": {},
     "output_type": "execute_result"
    }
   ],
   "source": [
    "collection.get(\n",
    "    where={\"source\": {\"$eq\": \"langchain.com\"}}\n",
    ")"
   ]
  },
  {
   "cell_type": "code",
   "execution_count": 6,
   "id": "d398fec4",
   "metadata": {},
   "outputs": [
    {
     "data": {
      "text/plain": [
       "{'ids': ['id1'],\n",
       " 'embeddings': None,\n",
       " 'documents': ['This is a document about LangChain'],\n",
       " 'uris': None,\n",
       " 'included': ['metadatas', 'documents'],\n",
       " 'data': None,\n",
       " 'metadatas': [{'version': 0.1, 'source': 'langchain.com'}]}"
      ]
     },
     "execution_count": 6,
     "metadata": {},
     "output_type": "execute_result"
    }
   ],
   "source": [
    "collection.get(\n",
    "    where={\n",
    "        \"$and\": [\n",
    "            {\"source\": {\"$eq\": \"langchain.com\"}}, \n",
    "            {\"version\": {\"$lt\": 0.3}}\n",
    "        ]\n",
    "    }\n",
    ")"
   ]
  },
  {
   "cell_type": "code",
   "execution_count": 7,
   "id": "aa5adf43",
   "metadata": {},
   "outputs": [
    {
     "data": {
      "text/plain": [
       "{'ids': ['id1', 'id2'],\n",
       " 'embeddings': None,\n",
       " 'documents': ['This is a document about LangChain',\n",
       "  'This is a reading about LlamaIndex'],\n",
       " 'uris': None,\n",
       " 'included': ['metadatas', 'documents'],\n",
       " 'data': None,\n",
       " 'metadatas': [{'version': 0.1, 'source': 'langchain.com'},\n",
       "  {'version': 0.2, 'source': 'llamaindex.ai'}]}"
      ]
     },
     "execution_count": 7,
     "metadata": {},
     "output_type": "execute_result"
    }
   ],
   "source": [
    "collection.get(\n",
    "    where={\n",
    "        \"$and\": [\n",
    "            {\"source\": {\"$in\": [\"langchain.com\", \"llamaindex.ai\"]}}, \n",
    "            {\"version\": {\"$lt\": 0.3}}\n",
    "        ]\n",
    "    }\n",
    ")"
   ]
  },
  {
   "cell_type": "code",
   "execution_count": 8,
   "id": "0c56fdd2",
   "metadata": {},
   "outputs": [
    {
     "data": {
      "text/plain": [
       "{'ids': ['id4'],\n",
       " 'embeddings': None,\n",
       " 'documents': ['This is a document about pandas'],\n",
       " 'uris': None,\n",
       " 'included': ['metadatas', 'documents'],\n",
       " 'data': None,\n",
       " 'metadatas': [{'source': 'pandas.pydata.org', 'version': 0.4}]}"
      ]
     },
     "execution_count": 8,
     "metadata": {},
     "output_type": "execute_result"
    }
   ],
   "source": [
    "collection.get(\n",
    "    where_document={\"$contains\":\"pandas\"}\n",
    ")"
   ]
  },
  {
   "cell_type": "code",
   "execution_count": 9,
   "id": "fcdd0b0a",
   "metadata": {},
   "outputs": [
    {
     "data": {
      "text/plain": [
       "{'ids': ['id3', 'id5'],\n",
       " 'embeddings': None,\n",
       " 'documents': ['This is a book about Python',\n",
       "  'This is another document about LangChain'],\n",
       " 'uris': None,\n",
       " 'included': ['metadatas', 'documents'],\n",
       " 'data': None,\n",
       " 'metadatas': [{'source': 'python.org', 'version': 0.3},\n",
       "  {'source': 'langchain.com', 'version': 0.5}]}"
      ]
     },
     "execution_count": 9,
     "metadata": {},
     "output_type": "execute_result"
    }
   ],
   "source": [
    "collection.get(\n",
    "    where={\"version\": {\"$gt\": 0.1}},\n",
    "    where_document={\n",
    "        \"$or\": [\n",
    "            {\"$contains\": \"LangChain\"},\n",
    "            {\"$contains\": \"Python\"}\n",
    "        ]\n",
    "    }\n",
    ")"
   ]
  },
  {
   "cell_type": "code",
   "execution_count": null,
   "id": "7afde937",
   "metadata": {},
   "outputs": [],
   "source": []
  }
 ],
 "metadata": {
  "kernelspec": {
   "display_name": ".venv",
   "language": "python",
   "name": "python3"
  },
  "language_info": {
   "codemirror_mode": {
    "name": "ipython",
    "version": 3
   },
   "file_extension": ".py",
   "mimetype": "text/x-python",
   "name": "python",
   "nbconvert_exporter": "python",
   "pygments_lexer": "ipython3",
   "version": "3.13.6"
  }
 },
 "nbformat": 4,
 "nbformat_minor": 5
}
